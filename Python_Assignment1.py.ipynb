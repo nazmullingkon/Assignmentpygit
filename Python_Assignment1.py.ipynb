{
 "cells": [
  {
   "cell_type": "markdown",
   "metadata": {},
   "source": [
    "## Data Type"
   ]
  },
  {
   "cell_type": "code",
   "execution_count": 6,
   "metadata": {},
   "outputs": [
    {
     "name": "stdout",
     "output_type": "stream",
     "text": [
      "<class 'int'>\n",
      "5\n",
      "<class 'float'>\n",
      "3.66\n",
      "<class 'complex'>\n",
      "2j\n",
      "<class 'str'>\n",
      "Hello Lingkon\n"
     ]
    }
   ],
   "source": [
    "#int data\n",
    "x=5\n",
    "print(type(x))\n",
    "print(x)\n",
    "\n",
    "#float data\n",
    "y=3.66\n",
    "print(type(y))\n",
    "print(y)\n",
    "\n",
    "#complex data\n",
    "z=2j\n",
    "print(type(z))\n",
    "print(z)\n",
    "\n",
    "#String data\n",
    "d=\"Hello Lingkon\"\n",
    "print(type(d))\n",
    "print(d)"
   ]
  },
  {
   "cell_type": "markdown",
   "metadata": {},
   "source": [
    "## Condition"
   ]
  },
  {
   "cell_type": "code",
   "execution_count": 7,
   "metadata": {},
   "outputs": [
    {
     "name": "stdout",
     "output_type": "stream",
     "text": [
      "a is greater than b\n"
     ]
    }
   ],
   "source": [
    "a = 200\n",
    "b = 33\n",
    "if b > a:\n",
    "  print(\"b is greater than a\")\n",
    "elif a == b:\n",
    "  print(\"a and b are equal\")\n",
    "else:\n",
    "  print(\"a is greater than b\")"
   ]
  },
  {
   "cell_type": "code",
   "execution_count": 9,
   "metadata": {},
   "outputs": [
    {
     "name": "stdout",
     "output_type": "stream",
     "text": [
      "Nazmul is Older than Lingkon\n",
      "marks1 is greater than marks2\n",
      "Both conditions are True\n"
     ]
    }
   ],
   "source": [
    "#if else example\n",
    "\n",
    "lingkon=23\n",
    "nazmul=25\n",
    "if nazmul > lingkon:\n",
    "    print(\"Nazmul is Older than Lingkon\")\n",
    "    \n",
    "#elif example    \n",
    "marks1 = 200\n",
    "marks2 = 44\n",
    "if marks2 > marks1:\n",
    "  print(\"marks2 is greater than marks1\")\n",
    "elif marks1 == marks2:\n",
    "  print(\"marks1 and marks2 are equal\")\n",
    "else:\n",
    "  print(\"marks1 is greater than marks2\") \n",
    "\n",
    "#if example\n",
    "x=10\n",
    "y=3\n",
    "z=12\n",
    "if x > y and z > x:\n",
    "  print(\"Both conditions are True\")"
   ]
  },
  {
   "cell_type": "markdown",
   "metadata": {},
   "source": [
    "## Loop"
   ]
  },
  {
   "cell_type": "code",
   "execution_count": 11,
   "metadata": {},
   "outputs": [
    {
     "name": "stdout",
     "output_type": "stream",
     "text": [
      "0\n",
      "1\n",
      "2\n",
      "3\n",
      "4\n",
      "5\n",
      "6\n",
      "7\n",
      "8\n",
      "9\n",
      "10\n",
      "11\n",
      "12\n",
      "13\n",
      "14\n",
      "2\n",
      "3\n",
      "4\n",
      "5\n",
      "6\n",
      "7\n",
      "8\n",
      "9\n",
      "10\n",
      "11\n",
      "12\n",
      "13\n",
      "14\n",
      "2\n",
      "1\n",
      "2\n",
      "3\n",
      "4\n",
      "['Honda', 'Volvo', 'Toyota', 'Farari']\n",
      "['Honda', 'Volvo', 'Toyota', 'Farari']\n",
      "['Honda', 'Volvo', 'Toyota', 'Farari']\n",
      "['Honda', 'Volvo', 'Toyota', 'Farari']\n"
     ]
    }
   ],
   "source": [
    "# Example of for loop\n",
    "\n",
    "for i in range(15):\n",
    "    print(i)\n",
    "    \n",
    "for x in range(2,15):\n",
    "    print(x)  \n",
    "       \n",
    "for c in range(2,3,15):\n",
    "    print(c)  \n",
    "    \n",
    "#Example of while loop\n",
    "p = 1\n",
    "while p < 5:\n",
    "    print(p)\n",
    "    p += 1\n",
    "    \n",
    "cars=[\"Honda\",\"Volvo\",\"Toyota\",\"Farari\"]\n",
    "for x in cars:\n",
    "    print(cars)"
   ]
  },
  {
   "cell_type": "markdown",
   "metadata": {},
   "source": [
    "## Function"
   ]
  },
  {
   "cell_type": "code",
   "execution_count": 13,
   "metadata": {},
   "outputs": [
    {
     "name": "stdout",
     "output_type": "stream",
     "text": [
      "Hello Lingkon\n",
      "Welcome Lingkon\n",
      "Welcome Nazmul\n",
      "Welcome Prottay\n",
      "Magpie\n",
      "Duck\n",
      "Hen\n"
     ]
    }
   ],
   "source": [
    "def helloo():\n",
    "  print(\"Hello Lingkon\")\n",
    "helloo()\n",
    "\n",
    "\n",
    "def name(name):\n",
    "  print(name + \"Lingkon\")\n",
    "  print(name + \"Nazmul\")\n",
    "  print(name + \"Prottay\")\n",
    "\n",
    "name(\"Welcome \")\n",
    "\n",
    "\n",
    "\n",
    "\n",
    "def birds_name(birds):\n",
    "  for i in birds:\n",
    "    print(i)\n",
    "\n",
    "bname= [\"Magpie\", \"Duck\", \"Hen\"]\n",
    "\n",
    "birds_name(bname)"
   ]
  },
  {
   "cell_type": "code",
   "execution_count": null,
   "metadata": {},
   "outputs": [],
   "source": []
  }
 ],
 "metadata": {
  "kernelspec": {
   "display_name": "Python 3",
   "language": "python",
   "name": "python3"
  },
  "language_info": {
   "codemirror_mode": {
    "name": "ipython",
    "version": 3
   },
   "file_extension": ".py",
   "mimetype": "text/x-python",
   "name": "python",
   "nbconvert_exporter": "python",
   "pygments_lexer": "ipython3",
   "version": "3.7.3"
  }
 },
 "nbformat": 4,
 "nbformat_minor": 2
}
